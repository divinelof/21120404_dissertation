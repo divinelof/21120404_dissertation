{
  "nbformat": 4,
  "nbformat_minor": 0,
  "metadata": {
    "colab": {
      "provenance": [],
      "collapsed_sections": [
        "zbtbFhbm5i5e",
        "smlU2Fjm5xF2",
        "2eK1EuoX559O",
        "HkGwbRi84_9T",
        "3xEoXS4I5DoZ",
        "wepHwu2U5IJZ",
        "kgv1L2Pw5L-C",
        "m1PSaR806sAf",
        "2r-HPjX6642_",
        "B6w3VbgBIUqb",
        "MIkNFSaKMheF",
        "1l_1d_JMMonG"
      ],
      "include_colab_link": true
    },
    "kernelspec": {
      "name": "python3",
      "display_name": "Python 3"
    },
    "language_info": {
      "name": "python"
    }
  },
  "cells": [
    {
      "cell_type": "markdown",
      "metadata": {
        "id": "view-in-github",
        "colab_type": "text"
      },
      "source": [
        "<a href=\"https://colab.research.google.com/github/divinelof/21120404_dissertation/blob/main/NB5_A_EccomerceEvaluation.ipynb\" target=\"_parent\"><img src=\"https://colab.research.google.com/assets/colab-badge.svg\" alt=\"Open In Colab\"/></a>"
      ]
    },
    {
      "cell_type": "markdown",
      "source": [
        "# **SETUP**"
      ],
      "metadata": {
        "id": "zbtbFhbm5i5e"
      }
    },
    {
      "cell_type": "code",
      "execution_count": null,
      "metadata": {
        "id": "Lurco5pk5cbn",
        "colab": {
          "base_uri": "https://localhost:8080/"
        },
        "outputId": "fd006ed6-627c-4790-92e0-7d36b997e3b1"
      },
      "outputs": [
        {
          "output_type": "stream",
          "name": "stdout",
          "text": [
            "Mounted at /content/drive\n"
          ]
        }
      ],
      "source": [
        "from google.colab import drive\n",
        "drive.mount('/content/drive')"
      ]
    },
    {
      "cell_type": "markdown",
      "source": [
        "# **Libraries**"
      ],
      "metadata": {
        "id": "smlU2Fjm5xF2"
      }
    },
    {
      "cell_type": "code",
      "source": [
        "# General imports\n",
        "import numpy as np\n",
        "import pandas as pd\n",
        "import os, sys, gc, warnings, random, datetime\n",
        "\n",
        "from sklearn.metrics import classification_report, confusion_matrix, f1_score, roc_auc_score, roc_curve\n",
        "warnings.filterwarnings('ignore')"
      ],
      "metadata": {
        "id": "X70uWApO50Rf"
      },
      "execution_count": null,
      "outputs": []
    },
    {
      "cell_type": "markdown",
      "source": [
        "# **UTILS**"
      ],
      "metadata": {
        "id": "2eK1EuoX559O"
      }
    },
    {
      "cell_type": "code",
      "source": [
        "def plot_confusion_matrix(cm,\n",
        "                          target_names,\n",
        "                          title='Confusion matrix',\n",
        "                          cmap=None,\n",
        "                          normalize=True):\n",
        "    \"\"\"\n",
        "    given a sklearn confusion matrix (cm), make a nice plot\n",
        "\n",
        "    Arguments\n",
        "    ---------\n",
        "    cm:           confusion matrix from sklearn.metrics.confusion_matrix\n",
        "\n",
        "    target_names: given classification classes such as [0, 1, 2]\n",
        "                  the class names, for example: ['high', 'medium', 'low']\n",
        "\n",
        "    title:        the text to display at the top of the matrix\n",
        "\n",
        "    cmap:         the gradient of the values displayed from matplotlib.pyplot.cm\n",
        "                  see http://matplotlib.org/examples/color/colormaps_reference.html\n",
        "                  plt.get_cmap('jet') or plt.cm.Blues\n",
        "\n",
        "    normalize:    If False, plot the raw numbers\n",
        "                  If True, plot the proportions\n",
        "\n",
        "    Usage\n",
        "    -----\n",
        "    plot_confusion_matrix(cm           = cm,                  # confusion matrix created by\n",
        "                                                              # sklearn.metrics.confusion_matrix\n",
        "                          normalize    = True,                # show proportions\n",
        "                          target_names = y_labels_vals,       # list of names of the classes\n",
        "                          title        = best_estimator_name) # title of graph\n",
        "\n",
        "    Citiation\n",
        "    ---------\n",
        "    http://scikit-learn.org/stable/auto_examples/model_selection/plot_confusion_matrix.html\n",
        "\n",
        "    \"\"\"\n",
        "    import matplotlib.pyplot as plt\n",
        "    import numpy as np\n",
        "    import itertools\n",
        "\n",
        "    accuracy = np.trace(cm) / float(np.sum(cm))\n",
        "    misclass = 1 - accuracy\n",
        "\n",
        "    if cmap is None:\n",
        "        cmap = plt.get_cmap('Blues')\n",
        "\n",
        "    plt.figure(figsize=(8, 6))\n",
        "    plt.imshow(cm, interpolation='nearest', cmap=cmap)\n",
        "    plt.title(title)\n",
        "    plt.colorbar()\n",
        "\n",
        "    if target_names is not None:\n",
        "        tick_marks = np.arange(len(target_names))\n",
        "        plt.xticks(tick_marks, target_names, rotation=45)\n",
        "        plt.yticks(tick_marks, target_names)\n",
        "\n",
        "    if normalize:\n",
        "        cm = cm.astype('float') / cm.sum(axis=1)[:, np.newaxis]\n",
        "\n",
        "\n",
        "    thresh = cm.max() / 1.5 if normalize else cm.max() / 2\n",
        "    for i, j in itertools.product(range(cm.shape[0]), range(cm.shape[1])):\n",
        "        if normalize:\n",
        "            plt.text(j, i, \"{:0.4f}\".format(cm[i, j]),\n",
        "                     horizontalalignment=\"center\",\n",
        "                     color=\"white\" if cm[i, j] > thresh else \"black\")\n",
        "        else:\n",
        "            plt.text(j, i, \"{:,}\".format(cm[i, j]),\n",
        "                     horizontalalignment=\"center\",\n",
        "                     color=\"white\" if cm[i, j] > thresh else \"black\")\n",
        "\n",
        "\n",
        "    plt.tight_layout()\n",
        "    plt.ylabel('True label')\n",
        "    plt.xlabel('Predicted label\\naccuracy={:0.4f}; misclass={:0.4f}'.format(accuracy, misclass))\n",
        "    plt.show()"
      ],
      "metadata": {
        "id": "wikr9jWW58Oe"
      },
      "execution_count": null,
      "outputs": []
    },
    {
      "cell_type": "code",
      "source": [
        "def plotRocAuc(y_true, y_pred, title):\n",
        "  import matplotlib.pyplot as plt\n",
        "  \n",
        "  ns_probs = [0 for _ in range(len(y_true))]\n",
        "  auc = roc_auc_score(y_true, y_pred)\n",
        "  ns_fpr, ns_tpr, _ = roc_curve(y_true, ns_probs)\n",
        "  lr_fpr, lr_tpr, _ = roc_curve(y_true, y_pred)\n",
        "\n",
        "  # plot the roc curve for the model\n",
        "  plt.plot(lr_fpr, lr_tpr, marker='.', label=\"AUC=\"+str(auc))\n",
        "  plt.plot(ns_fpr, ns_tpr, linestyle='--')\n",
        "\n",
        "  # axis labels\n",
        "  plt.xlabel('False Positive Rate')\n",
        "  plt.ylabel('True Positive Rate')\n",
        "  plt.title(title)\n",
        "  # show the legend\n",
        "  plt.legend()\n",
        "  # show the plot\n",
        "  plt.show()"
      ],
      "metadata": {
        "id": "QY7sI1gsII9D"
      },
      "execution_count": null,
      "outputs": []
    },
    {
      "cell_type": "markdown",
      "source": [
        "# **Model Predictions**"
      ],
      "metadata": {
        "id": "nx1TDWT95oRt"
      }
    },
    {
      "cell_type": "code",
      "source": [
        "data_path = '/content/drive/MyDrive/EcommerceFraudDetection/'\n",
        "\n",
        "# -------------------------------------------------------------\n",
        "# -------------------------------------------------------------\n",
        "# MAIN MODEL PREDICTION\n",
        "# -------------------------------------------------------------\n",
        "# -------------------------------------------------------------\n",
        "\n",
        "ValidationLabel = pd.read_csv(f\"{data_path}FinalValidation.csv\")[\"isFraud\"].astype(int)\n",
        "\n",
        "# -------------------------------------------------------------\n",
        "# -------------------------------------------------------------\n",
        "# MAIN MODEL PREDICTION\n",
        "# -------------------------------------------------------------\n",
        "# -------------------------------------------------------------\n",
        "\n",
        "XGBoostPredictions = pd.read_csv(f\"{data_path}valPredXGB.csv\").values\n",
        "LGBoostPredictions = pd.read_csv(f\"{data_path}valPredLGB.csv\").values\n",
        "RandomForestPredictions = pd.read_csv(f\"{data_path}valPredRF.csv\").values\n",
        "SVMPredictions = pd.read_csv(f\"{data_path}valPredSVM.csv\").values\n",
        "\n",
        "# -------------------------------------------------------------\n",
        "# -------------------------------------------------------------\n",
        "# 1% Noise Rate\n",
        "# -------------------------------------------------------------\n",
        "# -------------------------------------------------------------\n",
        "\n",
        "XGBoostPredictions_1P = pd.read_csv(f\"{data_path}valPredXGB_(1% Noise Rate).csv\").values\n",
        "LGBoostPredictions_1P = pd.read_csv(f\"{data_path}valPredLGB_(1% Noise Rate).csv\").values\n",
        "RandomForestPredictions_1P = pd.read_csv(f\"{data_path}valPredRF_(1% Noise Rate).csv\").values\n",
        "SVMPredictions_1P = pd.read_csv(f\"{data_path}valPredSVM_(1% Noise Rate).csv\").values"
      ],
      "metadata": {
        "id": "aNjN4ru05kck"
      },
      "execution_count": null,
      "outputs": []
    },
    {
      "cell_type": "markdown",
      "source": [
        "# **Classification Report**"
      ],
      "metadata": {
        "id": "9dt0VFCw6x2n"
      }
    },
    {
      "cell_type": "markdown",
      "source": [
        "### **XGBOOST**"
      ],
      "metadata": {
        "id": "HkGwbRi84_9T"
      }
    },
    {
      "cell_type": "code",
      "source": [
        "print(\"-\"*55)\n",
        "print(\"XGBOOST CLASSIFICATION REPORT\")\n",
        "print(\"-\"*55)\n",
        "print(classification_report(ValidationLabel, [1 if x > 0.5 else 0 for x in XGBoostPredictions]))\n",
        "print(\"-\"*55)\n",
        "print(\"-\"*55)"
      ],
      "metadata": {
        "id": "0togkOSB5tE2",
        "colab": {
          "base_uri": "https://localhost:8080/"
        },
        "outputId": "f0cc1847-9976-480b-a82b-2915396ad13e"
      },
      "execution_count": null,
      "outputs": [
        {
          "output_type": "stream",
          "name": "stdout",
          "text": [
            "-------------------------------------------------------\n",
            "XGBOOST CLASSIFICATION REPORT\n",
            "-------------------------------------------------------\n",
            "              precision    recall  f1-score   support\n",
            "\n",
            "           0       0.99      0.99      0.99    113975\n",
            "           1       0.76      0.76      0.76      4133\n",
            "\n",
            "    accuracy                           0.98    118108\n",
            "   macro avg       0.87      0.88      0.88    118108\n",
            "weighted avg       0.98      0.98      0.98    118108\n",
            "\n",
            "-------------------------------------------------------\n",
            "-------------------------------------------------------\n"
          ]
        }
      ]
    },
    {
      "cell_type": "markdown",
      "source": [
        "### **LIGHT GBM**"
      ],
      "metadata": {
        "id": "3xEoXS4I5DoZ"
      }
    },
    {
      "cell_type": "code",
      "source": [
        "print(\"-\"*55)\n",
        "print(\"LGBOOST CLASSIFICATION REPORT\")\n",
        "print(\"-\"*55)\n",
        "print(classification_report(ValidationLabel, [1 if x > 0.5 else 0 for x in LGBoostPredictions]))\n",
        "print(\"-\"*55)\n",
        "print(\"-\"*55)"
      ],
      "metadata": {
        "id": "dJf41_IW5tH1",
        "colab": {
          "base_uri": "https://localhost:8080/"
        },
        "outputId": "441ee031-63f1-4cc3-fc3e-bbc43c3b971f"
      },
      "execution_count": null,
      "outputs": [
        {
          "output_type": "stream",
          "name": "stdout",
          "text": [
            "-------------------------------------------------------\n",
            "LGBOOST CLASSIFICATION REPORT\n",
            "-------------------------------------------------------\n",
            "              precision    recall  f1-score   support\n",
            "\n",
            "           0       0.99      0.96      0.98    113975\n",
            "           1       0.44      0.77      0.56      4133\n",
            "\n",
            "    accuracy                           0.96    118108\n",
            "   macro avg       0.72      0.87      0.77    118108\n",
            "weighted avg       0.97      0.96      0.96    118108\n",
            "\n",
            "-------------------------------------------------------\n",
            "-------------------------------------------------------\n"
          ]
        }
      ]
    },
    {
      "cell_type": "markdown",
      "source": [
        "### **RANDOM FOREST**"
      ],
      "metadata": {
        "id": "wepHwu2U5IJZ"
      }
    },
    {
      "cell_type": "code",
      "source": [
        "print(\"-\"*55)\n",
        "print(\"RANDOM FORST MODEL CLASSIFICATION REPORT\")\n",
        "print(\"-\"*55)\n",
        "print(classification_report(ValidationLabel, [1 if x > 0.5 else 0 for x in RandomForestPredictions]))\n",
        "print(\"-\"*55)\n",
        "print(\"-\"*55)"
      ],
      "metadata": {
        "id": "EB3dXKdM5tLW",
        "colab": {
          "base_uri": "https://localhost:8080/"
        },
        "outputId": "477a171f-6b96-4d2d-a953-46ecedef39d7"
      },
      "execution_count": null,
      "outputs": [
        {
          "output_type": "stream",
          "name": "stdout",
          "text": [
            "-------------------------------------------------------\n",
            "RANDOM FORST MODEL CLASSIFICATION REPORT\n",
            "-------------------------------------------------------\n",
            "              precision    recall  f1-score   support\n",
            "\n",
            "           0       0.98      0.99      0.99    113975\n",
            "           1       0.65      0.49      0.56      4133\n",
            "\n",
            "    accuracy                           0.97    118108\n",
            "   macro avg       0.82      0.74      0.77    118108\n",
            "weighted avg       0.97      0.97      0.97    118108\n",
            "\n",
            "-------------------------------------------------------\n",
            "-------------------------------------------------------\n"
          ]
        }
      ]
    },
    {
      "cell_type": "markdown",
      "source": [
        "### **SVM**"
      ],
      "metadata": {
        "id": "kgv1L2Pw5L-C"
      }
    },
    {
      "cell_type": "code",
      "source": [
        "print(\"-\"*55)\n",
        "print(\"SUPPORT VECTOR MACHINE MODEL CLASSIFICATION REPORT\")\n",
        "print(\"-\"*55)\n",
        "print(classification_report(ValidationLabel, [1 if x > 0.5 else 0 for x in SVMPredictions]))\n",
        "print(\"-\"*55)\n",
        "print(\"-\"*55)"
      ],
      "metadata": {
        "colab": {
          "base_uri": "https://localhost:8080/"
        },
        "id": "irTCIaQ_5Lga",
        "outputId": "e11261d8-9c16-4a75-8db1-5722a1c1e9ef"
      },
      "execution_count": null,
      "outputs": [
        {
          "output_type": "stream",
          "name": "stdout",
          "text": [
            "-------------------------------------------------------\n",
            "SUPPORT VECTOR MACHINE MODEL CLASSIFICATION REPORT\n",
            "-------------------------------------------------------\n",
            "              precision    recall  f1-score   support\n",
            "\n",
            "           0       0.98      0.98      0.98    113975\n",
            "           1       0.52      0.49      0.50      4133\n",
            "\n",
            "    accuracy                           0.97    118108\n",
            "   macro avg       0.75      0.74      0.74    118108\n",
            "weighted avg       0.97      0.97      0.97    118108\n",
            "\n",
            "-------------------------------------------------------\n",
            "-------------------------------------------------------\n"
          ]
        }
      ]
    },
    {
      "cell_type": "markdown",
      "source": [
        "# **Confusion Matrix**"
      ],
      "metadata": {
        "id": "m1PSaR806sAf"
      }
    },
    {
      "cell_type": "code",
      "source": [
        "cmXGB = confusion_matrix(ValidationLabel, [1 if x > 0.5 else 0 for x in XGBoostPredictions])\n",
        "plot_confusion_matrix(cm = cmXGB,\n",
        "                      target_names = [\"Non-Fraudulent\", \"Fraudulent\"],\n",
        "                      title='XGBOOST Model Confusion Matrix',\n",
        "                      cmap=None,\n",
        "                      normalize=False)"
      ],
      "metadata": {
        "id": "GSpfvT4-63v2",
        "colab": {
          "base_uri": "https://localhost:8080/"
        },
        "outputId": "a5c97a70-7342-4abb-f5bb-f4959b230b12"
      },
      "execution_count": null,
      "outputs": [
        {
          "output_type": "display_data",
          "data": {
            "text/plain": [
              "<Figure size 576x432 with 2 Axes>"
            ],
            "image/png": "[encoded data removed]"
          },
          "metadata": {
            "needs_background": "light"
          }
        }
      ]
    },
    {
      "cell_type": "code",
      "source": [
        "cmLGB = confusion_matrix(ValidationLabel, [1 if x > 0.5 else 0 for x in LGBoostPredictions])\n",
        "plot_confusion_matrix(cm = cmLGB,\n",
        "                      target_names = [\"Non-Fraudulent\", \"Fraudulent\"],\n",
        "                      title='LGBM Model Confusion Matrix',\n",
        "                      cmap=None,\n",
        "                      normalize=False)"
      ],
      "metadata": {
        "id": "zL0H71hV63zL",
        "colab": {
          "base_uri": "https://localhost:8080/"
        },
        "outputId": "3bc591f7-d9ae-462f-c989-43b68ffe52dd"
      },
      "execution_count": null,
      "outputs": [
        {
          "output_type": "display_data",
          "data": {
            "text/plain": [
              "<Figure size 576x432 with 2 Axes>"
            ],
            "image/png": "[encoded data removed]"
          },
          "metadata": {
            "needs_background": "light"
          }
        }
      ]
    },
    {
      "cell_type": "code",
      "source": [
        "cmRF = confusion_matrix(ValidationLabel, [1 if x > 0.5 else 0 for x in RandomForestPredictions])\n",
        "plot_confusion_matrix(cm = cmRF,\n",
        "                      target_names = [\"Non-Fraudulent\", \"Fraudulent\"],\n",
        "                      title='Random Forest Model Confusion Matrix',\n",
        "                      cmap=None,\n",
        "                      normalize=False)"
      ],
      "metadata": {
        "colab": {
          "base_uri": "https://localhost:8080/"
        },
        "id": "AyxD8mfq8YZR",
        "outputId": "a1375328-35d4-4cbe-b130-fce85d8681dc"
      },
      "execution_count": null,
      "outputs": [
        {
          "output_type": "display_data",
          "data": {
            "text/plain": [
              "<Figure size 576x432 with 2 Axes>"
            ],
            "image/png": "[encoded data removed]"
          },
          "metadata": {
            "needs_background": "light"
          }
        }
      ]
    },
    {
      "cell_type": "code",
      "source": [
        "cmSVM = confusion_matrix(ValidationLabel, [1 if x > 0.5 else 0 for x in SVMPredictions])\n",
        "plot_confusion_matrix(cm = cmSVM,\n",
        "                      target_names = [\"Non-Fraudulent\", \"Fraudulent\"],\n",
        "                      title='SVM Model Confusion Matrix',\n",
        "                      cmap=None,\n",
        "                      normalize=False)"
      ],
      "metadata": {
        "colab": {
          "base_uri": "https://localhost:8080/"
        },
        "id": "uyMTR9HS8YWI",
        "outputId": "045ad6d1-5c51-4609-c745-b1b24d18dc8c"
      },
      "execution_count": null,
      "outputs": [
        {
          "output_type": "display_data",
          "data": {
            "text/plain": [
              "<Figure size 576x432 with 2 Axes>"
            ],
            "image/png": "[encoded data removed]"
          },
          "metadata": {
            "needs_background": "light"
          }
        }
      ]
    },
    {
      "cell_type": "markdown",
      "source": [
        "# **ROC AUC CURVE**"
      ],
      "metadata": {
        "id": "2r-HPjX6642_"
      }
    },
    {
      "cell_type": "code",
      "source": [
        "plotRocAuc(ValidationLabel, XGBoostPredictions, \"XGBOOST ROC AUC CURVE\")"
      ],
      "metadata": {
        "id": "R90esL3N68WA",
        "colab": {
          "base_uri": "https://localhost:8080/"
        },
        "outputId": "0171e5ce-d94a-4dba-e0a2-b819ddacd008"
      },
      "execution_count": null,
      "outputs": [
        {
          "output_type": "display_data",
          "data": {
            "text/plain": [
              "<Figure size 432x288 with 1 Axes>"
            ],
            "image/png": "[encoded data removed]"
          },
          "metadata": {
            "needs_background": "light"
          }
        }
      ]
    },
    {
      "cell_type": "code",
      "source": [
        "plotRocAuc(ValidationLabel, LGBoostPredictions, \"LGBM ROC AUC CURVE\")"
      ],
      "metadata": {
        "colab": {
          "base_uri": "https://localhost:8080/"
        },
        "id": "2s1deN-_HQhO",
        "outputId": "af64d806-3b1c-4adc-c188-0c9fecae5b2d"
      },
      "execution_count": null,
      "outputs": [
        {
          "output_type": "display_data",
          "data": {
            "text/plain": [
              "<Figure size 432x288 with 1 Axes>"
            ],
            "image/png": "[encoded data removed]"
          },
          "metadata": {
            "needs_background": "light"
          }
        }
      ]
    },
    {
      "cell_type": "code",
      "source": [
        "plotRocAuc(ValidationLabel, RandomForestPredictions, \"RANDOM FOREST ROC AUC CURVE\")"
      ],
      "metadata": {
        "colab": {
          "base_uri": "https://localhost:8080/"
        },
        "id": "mZQJQ6J-HQjw",
        "outputId": "726159a2-27fa-42a1-b4e9-c560041a3bf9"
      },
      "execution_count": null,
      "outputs": [
        {
          "output_type": "display_data",
          "data": {
            "text/plain": [
              "<Figure size 432x288 with 1 Axes>"
            ],
            "image/png": "[encoded data removed]"
          },
          "metadata": {
            "needs_background": "light"
          }
        }
      ]
    },
    {
      "cell_type": "code",
      "source": [
        "plotRocAuc(ValidationLabel, SVMPredictions, \"SVM ROC AUC CURVE\")"
      ],
      "metadata": {
        "colab": {
          "base_uri": "https://localhost:8080/"
        },
        "id": "OugqrbByHQpq",
        "outputId": "f2dbdddb-6c8f-44a6-d030-3529d457c1b6"
      },
      "execution_count": null,
      "outputs": [
        {
          "output_type": "display_data",
          "data": {
            "text/plain": [
              "<Figure size 432x288 with 1 Axes>"
            ],
            "image/png": "[encoded data removed]"
          },
          "metadata": {
            "needs_background": "light"
          }
        }
      ]
    },
    {
      "cell_type": "markdown",
      "source": [
        "# **ROC AUC SCORE**"
      ],
      "metadata": {
        "id": "B6w3VbgBIUqb"
      }
    },
    {
      "cell_type": "code",
      "source": [
        "from sklearn.metrics import accuracy_score, precision_score, recall_score"
      ],
      "metadata": {
        "id": "bz0xG5BiKPoV"
      },
      "execution_count": null,
      "outputs": []
    },
    {
      "cell_type": "code",
      "source": [
        "def metricsDf(allPredictions):\n",
        "  scoreDict = {\"Accuracy\":[], \"Precision\":[], \"Recall\":[], \"ROC AUC\":[]}\n",
        "  for predictions in allPredictions:\n",
        "    scoreDict[\"ROC AUC\"].append(np.round(roc_auc_score(ValidationLabel, predictions), 3))\n",
        "    scoreDict[\"Accuracy\"].append(np.round(accuracy_score(ValidationLabel, [1 if x > 0.5 else 0 for x in predictions]), 3))\n",
        "    scoreDict[\"Precision\"].append(np.round(precision_score(ValidationLabel, [1 if x > 0.5 else 0 for x in predictions]), 3))\n",
        "    scoreDict[\"Recall\"].append(np.round(recall_score(ValidationLabel, [1 if x > 0.5 else 0 for x in predictions]), 3))\n",
        "\n",
        "  return pd.DataFrame(scoreDict, index = [\"XGBOOST\", \"LGBM\", \"SVM\", \"RANDOM FOREST\"])"
      ],
      "metadata": {
        "id": "Qwbcmxq7HQs0"
      },
      "execution_count": null,
      "outputs": []
    },
    {
      "cell_type": "markdown",
      "source": [
        "### **Model Performance**"
      ],
      "metadata": {
        "id": "MIkNFSaKMheF"
      }
    },
    {
      "cell_type": "code",
      "source": [
        "metricsDf(allPredictions = [XGBoostPredictions, LGBoostPredictions, SVMPredictions, RandomForestPredictions])"
      ],
      "metadata": {
        "colab": {
          "base_uri": "https://localhost:8080/",
          "height": 175
        },
        "id": "9R8Z-E-fJVQT",
        "outputId": "9e0a504d-523b-4ce2-f2fb-7410eb85a19e"
      },
      "execution_count": null,
      "outputs": [
        {
          "output_type": "execute_result",
          "data": {
            "text/plain": [
              "               Accuracy  Precision  Recall  ROC AUC\n",
              "XGBOOST           0.983      0.756   0.761    0.970\n",
              "LGBM              0.958      0.440   0.766    0.952\n",
              "SVM               0.966      0.522   0.489    0.736\n",
              "RANDOM FOREST     0.973      0.650   0.489    0.908"
            ],
            "text/html": [
              "\n",
              "  <div id=\"df-28b334f3-0838-4752-b7f1-f7bdcab3ae6b\">\n",
              "    <div class=\"colab-df-container\">\n",
              "      <div>\n",
              "<style scoped>\n",
              "    .dataframe tbody tr th:only-of-type {\n",
              "        vertical-align: middle;\n",
              "    }\n",
              "\n",
              "    .dataframe tbody tr th {\n",
              "        vertical-align: top;\n",
              "    }\n",
              "\n",
              "    .dataframe thead th {\n",
              "        text-align: right;\n",
              "    }\n",
              "</style>\n",
              "<table border=\"1\" class=\"dataframe\">\n",
              "  <thead>\n",
              "    <tr style=\"text-align: right;\">\n",
              "      <th></th>\n",
              "      <th>Accuracy</th>\n",
              "      <th>Precision</th>\n",
              "      <th>Recall</th>\n",
              "      <th>ROC AUC</th>\n",
              "    </tr>\n",
              "  </thead>\n",
              "  <tbody>\n",
              "    <tr>\n",
              "      <th>XGBOOST</th>\n",
              "      <td>0.983</td>\n",
              "      <td>0.756</td>\n",
              "      <td>0.761</td>\n",
              "      <td>0.970</td>\n",
              "    </tr>\n",
              "    <tr>\n",
              "      <th>LGBM</th>\n",
              "      <td>0.958</td>\n",
              "      <td>0.440</td>\n",
              "      <td>0.766</td>\n",
              "      <td>0.952</td>\n",
              "    </tr>\n",
              "    <tr>\n",
              "      <th>SVM</th>\n",
              "      <td>0.966</td>\n",
              "      <td>0.522</td>\n",
              "      <td>0.489</td>\n",
              "      <td>0.736</td>\n",
              "    </tr>\n",
              "    <tr>\n",
              "      <th>RANDOM FOREST</th>\n",
              "      <td>0.973</td>\n",
              "      <td>0.650</td>\n",
              "      <td>0.489</td>\n",
              "      <td>0.908</td>\n",
              "    </tr>\n",
              "  </tbody>\n",
              "</table>\n",
              "</div>\n",
              "      <button class=\"colab-df-convert\" onclick=\"convertToInteractive('df-28b334f3-0838-4752-b7f1-f7bdcab3ae6b')\"\n",
              "              title=\"Convert this dataframe to an interactive table.\"\n",
              "              style=\"display:none;\">\n",
              "        \n",
              "  <svg xmlns=\"http://www.w3.org/2000/svg\" height=\"24px\"viewBox=\"0 0 24 24\"\n",
              "       width=\"24px\">\n",
              "    <path d=\"M0 0h24v24H0V0z\" fill=\"none\"/>\n",
              "    <path d=\"M18.56 5.44l.94 2.06.94-2.06 2.06-.94-2.06-.94-.94-2.06-.94 2.06-2.06.94zm-11 1L8.5 8.5l.94-2.06 2.06-.94-2.06-.94L8.5 2.5l-.94 2.06-2.06.94zm10 10l.94 2.06.94-2.06 2.06-.94-2.06-.94-.94-2.06-.94 2.06-2.06.94z\"/><path d=\"M17.41 7.96l-1.37-1.37c-.4-.4-.92-.59-1.43-.59-.52 0-1.04.2-1.43.59L10.3 9.45l-7.72 7.72c-.78.78-.78 2.05 0 2.83L4 21.41c.39.39.9.59 1.41.59.51 0 1.02-.2 1.41-.59l7.78-7.78 2.81-2.81c.8-.78.8-2.07 0-2.86zM5.41 20L4 18.59l7.72-7.72 1.47 1.35L5.41 20z\"/>\n",
              "  </svg>\n",
              "      </button>\n",
              "      \n",
              "  <style>\n",
              "    .colab-df-container {\n",
              "      display:flex;\n",
              "      flex-wrap:wrap;\n",
              "      gap: 12px;\n",
              "    }\n",
              "\n",
              "    .colab-df-convert {\n",
              "      background-color: #E8F0FE;\n",
              "      border: none;\n",
              "      border-radius: 50%;\n",
              "      cursor: pointer;\n",
              "      display: none;\n",
              "      fill: #1967D2;\n",
              "      height: 32px;\n",
              "      padding: 0 0 0 0;\n",
              "      width: 32px;\n",
              "    }\n",
              "\n",
              "    .colab-df-convert:hover {\n",
              "      background-color: #E2EBFA;\n",
              "      box-shadow: 0px 1px 2px rgba(60, 64, 67, 0.3), 0px 1px 3px 1px rgba(60, 64, 67, 0.15);\n",
              "      fill: #174EA6;\n",
              "    }\n",
              "\n",
              "    [theme=dark] .colab-df-convert {\n",
              "      background-color: #3B4455;\n",
              "      fill: #D2E3FC;\n",
              "    }\n",
              "\n",
              "    [theme=dark] .colab-df-convert:hover {\n",
              "      background-color: #434B5C;\n",
              "      box-shadow: 0px 1px 3px 1px rgba(0, 0, 0, 0.15);\n",
              "      filter: drop-shadow(0px 1px 2px rgba(0, 0, 0, 0.3));\n",
              "      fill: #FFFFFF;\n",
              "    }\n",
              "  </style>\n",
              "\n",
              "      <script>\n",
              "        const buttonEl =\n",
              "          document.querySelector('#df-28b334f3-0838-4752-b7f1-f7bdcab3ae6b button.colab-df-convert');\n",
              "        buttonEl.style.display =\n",
              "          google.colab.kernel.accessAllowed ? 'block' : 'none';\n",
              "\n",
              "        async function convertToInteractive(key) {\n",
              "          const element = document.querySelector('#df-28b334f3-0838-4752-b7f1-f7bdcab3ae6b');\n",
              "          const dataTable =\n",
              "            await google.colab.kernel.invokeFunction('convertToInteractive',\n",
              "                                                     [key], {});\n",
              "          if (!dataTable) return;\n",
              "\n",
              "          const docLinkHtml = 'Like what you see? Visit the ' +\n",
              "            '<a target=\"_blank\" href=https://colab.research.google.com/notebooks/data_table.ipynb>data table notebook</a>'\n",
              "            + ' to learn more about interactive tables.';\n",
              "          element.innerHTML = '';\n",
              "          dataTable['output_type'] = 'display_data';\n",
              "          await google.colab.output.renderOutput(dataTable, element);\n",
              "          const docLink = document.createElement('div');\n",
              "          docLink.innerHTML = docLinkHtml;\n",
              "          element.appendChild(docLink);\n",
              "        }\n",
              "      </script>\n",
              "    </div>\n",
              "  </div>\n",
              "  "
            ]
          },
          "metadata": {},
          "execution_count": 83
        }
      ]
    },
    {
      "cell_type": "markdown",
      "source": [
        "### **Model Performance (1% Noise)**"
      ],
      "metadata": {
        "id": "1l_1d_JMMonG"
      }
    },
    {
      "cell_type": "code",
      "source": [
        "metricsDf([XGBoostPredictions_1P, LGBoostPredictions_1P, SVMPredictions_1P, RandomForestPredictions_1P])"
      ],
      "metadata": {
        "colab": {
          "base_uri": "https://localhost:8080/",
          "height": 175
        },
        "id": "ZRHSWVL1Lvwl",
        "outputId": "e080292a-d979-42ce-eeef-6cf2e19941ad"
      },
      "execution_count": null,
      "outputs": [
        {
          "output_type": "execute_result",
          "data": {
            "text/plain": [
              "               Accuracy  Precision  Recall  ROC AUC\n",
              "XGBOOST           0.981      0.716   0.756    0.966\n",
              "LGBM              0.952      0.403   0.773    0.948\n",
              "SVM               0.966      0.518   0.484    0.734\n",
              "RANDOM FOREST     0.973      0.653   0.487    0.907"
            ],
            "text/html": [
              "\n",
              "  <div id=\"df-d00e9dbb-f122-4038-83a1-72e1b20ba912\">\n",
              "    <div class=\"colab-df-container\">\n",
              "      <div>\n",
              "<style scoped>\n",
              "    .dataframe tbody tr th:only-of-type {\n",
              "        vertical-align: middle;\n",
              "    }\n",
              "\n",
              "    .dataframe tbody tr th {\n",
              "        vertical-align: top;\n",
              "    }\n",
              "\n",
              "    .dataframe thead th {\n",
              "        text-align: right;\n",
              "    }\n",
              "</style>\n",
              "<table border=\"1\" class=\"dataframe\">\n",
              "  <thead>\n",
              "    <tr style=\"text-align: right;\">\n",
              "      <th></th>\n",
              "      <th>Accuracy</th>\n",
              "      <th>Precision</th>\n",
              "      <th>Recall</th>\n",
              "      <th>ROC AUC</th>\n",
              "    </tr>\n",
              "  </thead>\n",
              "  <tbody>\n",
              "    <tr>\n",
              "      <th>XGBOOST</th>\n",
              "      <td>0.981</td>\n",
              "      <td>0.716</td>\n",
              "      <td>0.756</td>\n",
              "      <td>0.966</td>\n",
              "    </tr>\n",
              "    <tr>\n",
              "      <th>LGBM</th>\n",
              "      <td>0.952</td>\n",
              "      <td>0.403</td>\n",
              "      <td>0.773</td>\n",
              "      <td>0.948</td>\n",
              "    </tr>\n",
              "    <tr>\n",
              "      <th>SVM</th>\n",
              "      <td>0.966</td>\n",
              "      <td>0.518</td>\n",
              "      <td>0.484</td>\n",
              "      <td>0.734</td>\n",
              "    </tr>\n",
              "    <tr>\n",
              "      <th>RANDOM FOREST</th>\n",
              "      <td>0.973</td>\n",
              "      <td>0.653</td>\n",
              "      <td>0.487</td>\n",
              "      <td>0.907</td>\n",
              "    </tr>\n",
              "  </tbody>\n",
              "</table>\n",
              "</div>\n",
              "      <button class=\"colab-df-convert\" onclick=\"convertToInteractive('df-d00e9dbb-f122-4038-83a1-72e1b20ba912')\"\n",
              "              title=\"Convert this dataframe to an interactive table.\"\n",
              "              style=\"display:none;\">\n",
              "        \n",
              "  <svg xmlns=\"http://www.w3.org/2000/svg\" height=\"24px\"viewBox=\"0 0 24 24\"\n",
              "       width=\"24px\">\n",
              "    <path d=\"M0 0h24v24H0V0z\" fill=\"none\"/>\n",
              "    <path d=\"M18.56 5.44l.94 2.06.94-2.06 2.06-.94-2.06-.94-.94-2.06-.94 2.06-2.06.94zm-11 1L8.5 8.5l.94-2.06 2.06-.94-2.06-.94L8.5 2.5l-.94 2.06-2.06.94zm10 10l.94 2.06.94-2.06 2.06-.94-2.06-.94-.94-2.06-.94 2.06-2.06.94z\"/><path d=\"M17.41 7.96l-1.37-1.37c-.4-.4-.92-.59-1.43-.59-.52 0-1.04.2-1.43.59L10.3 9.45l-7.72 7.72c-.78.78-.78 2.05 0 2.83L4 21.41c.39.39.9.59 1.41.59.51 0 1.02-.2 1.41-.59l7.78-7.78 2.81-2.81c.8-.78.8-2.07 0-2.86zM5.41 20L4 18.59l7.72-7.72 1.47 1.35L5.41 20z\"/>\n",
              "  </svg>\n",
              "      </button>\n",
              "      \n",
              "  <style>\n",
              "    .colab-df-container {\n",
              "      display:flex;\n",
              "      flex-wrap:wrap;\n",
              "      gap: 12px;\n",
              "    }\n",
              "\n",
              "    .colab-df-convert {\n",
              "      background-color: #E8F0FE;\n",
              "      border: none;\n",
              "      border-radius: 50%;\n",
              "      cursor: pointer;\n",
              "      display: none;\n",
              "      fill: #1967D2;\n",
              "      height: 32px;\n",
              "      padding: 0 0 0 0;\n",
              "      width: 32px;\n",
              "    }\n",
              "\n",
              "    .colab-df-convert:hover {\n",
              "      background-color: #E2EBFA;\n",
              "      box-shadow: 0px 1px 2px rgba(60, 64, 67, 0.3), 0px 1px 3px 1px rgba(60, 64, 67, 0.15);\n",
              "      fill: #174EA6;\n",
              "    }\n",
              "\n",
              "    [theme=dark] .colab-df-convert {\n",
              "      background-color: #3B4455;\n",
              "      fill: #D2E3FC;\n",
              "    }\n",
              "\n",
              "    [theme=dark] .colab-df-convert:hover {\n",
              "      background-color: #434B5C;\n",
              "      box-shadow: 0px 1px 3px 1px rgba(0, 0, 0, 0.15);\n",
              "      filter: drop-shadow(0px 1px 2px rgba(0, 0, 0, 0.3));\n",
              "      fill: #FFFFFF;\n",
              "    }\n",
              "  </style>\n",
              "\n",
              "      <script>\n",
              "        const buttonEl =\n",
              "          document.querySelector('#df-d00e9dbb-f122-4038-83a1-72e1b20ba912 button.colab-df-convert');\n",
              "        buttonEl.style.display =\n",
              "          google.colab.kernel.accessAllowed ? 'block' : 'none';\n",
              "\n",
              "        async function convertToInteractive(key) {\n",
              "          const element = document.querySelector('#df-d00e9dbb-f122-4038-83a1-72e1b20ba912');\n",
              "          const dataTable =\n",
              "            await google.colab.kernel.invokeFunction('convertToInteractive',\n",
              "                                                     [key], {});\n",
              "          if (!dataTable) return;\n",
              "\n",
              "          const docLinkHtml = 'Like what you see? Visit the ' +\n",
              "            '<a target=\"_blank\" href=https://colab.research.google.com/notebooks/data_table.ipynb>data table notebook</a>'\n",
              "            + ' to learn more about interactive tables.';\n",
              "          element.innerHTML = '';\n",
              "          dataTable['output_type'] = 'display_data';\n",
              "          await google.colab.output.renderOutput(dataTable, element);\n",
              "          const docLink = document.createElement('div');\n",
              "          docLink.innerHTML = docLinkHtml;\n",
              "          element.appendChild(docLink);\n",
              "        }\n",
              "      </script>\n",
              "    </div>\n",
              "  </div>\n",
              "  "
            ]
          },
          "metadata": {},
          "execution_count": 81
        }
      ]
    }
  ]
}