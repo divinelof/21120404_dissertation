{
  "cells": [
    {
      "cell_type": "markdown",
      "metadata": {
        "id": "view-in-github",
        "colab_type": "text"
      },
      "source": [
        "<a href=\"https://colab.research.google.com/github/divinelof/21120404_dissertation/blob/main/NB4_EccomerceRobustness(NoiseRate%3D1_).ipynb\" target=\"_parent\"><img src=\"https://colab.research.google.com/assets/colab-badge.svg\" alt=\"Open In Colab\"/></a>"
      ]
    },
    {
      "cell_type": "markdown",
      "metadata": {
        "id": "RZARCPRd9pH6"
      },
      "source": [
        "# **SETUP**"
      ]
    },
    {
      "cell_type": "code",
      "execution_count": null,
      "metadata": {
        "colab": {
          "base_uri": "https://localhost:8080/"
        },
        "id": "pcxBo4Y6iqsF",
        "outputId": "c9f3c840-d817-47cb-aa19-d5ee8ca10842"
      },
      "outputs": [
        {
          "output_type": "stream",
          "name": "stdout",
          "text": [
            "Mounted at /content/drive\n"
          ]
        }
      ],
      "source": [
        "from google.colab import drive\n",
        "drive.mount('/content/drive')"
      ]
    },
    {
      "cell_type": "markdown",
      "metadata": {
        "id": "ZhXUVQftwaHj"
      },
      "source": [
        "# **Libraries**"
      ]
    },
    {
      "cell_type": "code",
      "execution_count": null,
      "metadata": {
        "id": "TM8s5hSl9s4o"
      },
      "outputs": [],
      "source": [
        "# General imports\n",
        "import numpy as np\n",
        "import pandas as pd\n",
        "import os, sys, gc, warnings, random, datetime\n",
        "\n",
        "from sklearn import metrics\n",
        "from sklearn.model_selection import train_test_split\n",
        "from sklearn.preprocessing import LabelEncoder\n",
        "\n",
        "from tqdm import tqdm\n",
        "\n",
        "import math\n",
        "import lightgbm as lgb\n",
        "import xgboost as xgb\n",
        "from sklearn.svm import SVC\n",
        "from sklearn.ensemble import RandomForestClassifier\n",
        "\n",
        "from sklearn.metrics import classification_report, confusion_matrix, f1_score, roc_auc_score\n",
        "\n",
        "warnings.filterwarnings('ignore')"
      ]
    },
    {
      "cell_type": "markdown",
      "metadata": {
        "id": "3NwrxDYq-wdr"
      },
      "source": [
        "# **UTILS**"
      ]
    },
    {
      "cell_type": "code",
      "execution_count": null,
      "metadata": {
        "id": "nOYKKuSR-yK6"
      },
      "outputs": [],
      "source": [
        "class FEATURES:\n",
        "\n",
        "  SEED = 2022\n",
        "  \n",
        "  LGBMModelParameter = {\n",
        "                    'objective':'binary',\n",
        "                    'boosting_type':'gbdt',\n",
        "                    'metric':'auc',\n",
        "                    'n_jobs':-1,\n",
        "                    'learning_rate':0.01,\n",
        "                    'num_leaves': 2**8,\n",
        "                    'max_depth':-1,\n",
        "                    'tree_learner':'serial',\n",
        "                    'colsample_bytree': 0.5,\n",
        "                    'subsample_freq':1,\n",
        "                    \"scale_pos_weight\":5,\n",
        "                    'subsample':0.7,\n",
        "                    'n_estimators':800,\n",
        "                    'max_bin':255,\n",
        "                    'verbose':-1,\n",
        "                    'seed': SEED,\n",
        "                    'early_stopping_rounds':100} "
      ]
    },
    {
      "cell_type": "code",
      "execution_count": null,
      "metadata": {
        "id": "PrkDMM47A7pW"
      },
      "outputs": [],
      "source": [
        "########################### Helpers\n",
        "#################################################################################\n",
        "## Seeder\n",
        "# :seed to make all processes deterministic     # type: int\n",
        "def seed_everything(seed=0):\n",
        "    random.seed(seed)\n",
        "    os.environ['PYTHONHASHSEED'] = str(seed)\n",
        "    np.random.seed(seed)\n",
        "    \n",
        "## Memory Reducer\n",
        "# :df pandas dataframe to reduce size             # type: pd.DataFrame()\n",
        "# :verbose                                        # type: bool\n",
        "def reduce_mem_usage(df, verbose=True):\n",
        "    numerics = ['int16', 'int32', 'int64', 'float16', 'float32', 'float64']\n",
        "    start_mem = df.memory_usage().sum() / 1024**2    \n",
        "    for col in df.columns:\n",
        "        col_type = df[col].dtypes\n",
        "        if col_type in numerics:\n",
        "            c_min = df[col].min()\n",
        "            c_max = df[col].max()\n",
        "            if str(col_type)[:3] == 'int':\n",
        "                if c_min > np.iinfo(np.int8).min and c_max < np.iinfo(np.int8).max:\n",
        "                    df[col] = df[col].astype(np.int8)\n",
        "                elif c_min > np.iinfo(np.int16).min and c_max < np.iinfo(np.int16).max:\n",
        "                    df[col] = df[col].astype(np.int16)\n",
        "                elif c_min > np.iinfo(np.int32).min and c_max < np.iinfo(np.int32).max:\n",
        "                    df[col] = df[col].astype(np.int32)\n",
        "                elif c_min > np.iinfo(np.int64).min and c_max < np.iinfo(np.int64).max:\n",
        "                    df[col] = df[col].astype(np.int64)  \n",
        "            else:\n",
        "                if c_min > np.finfo(np.float16).min and c_max < np.finfo(np.float16).max:\n",
        "                    df[col] = df[col].astype(np.float16)\n",
        "                elif c_min > np.finfo(np.float32).min and c_max < np.finfo(np.float32).max:\n",
        "                    df[col] = df[col].astype(np.float32)\n",
        "                else:\n",
        "                    df[col] = df[col].astype(np.float64)    \n",
        "    end_mem = df.memory_usage().sum() / 1024**2\n",
        "    if verbose: print('Mem. usage decreased to {:5.2f} Mb ({:.1f}% reduction)'.format(end_mem, 100 * (start_mem - end_mem) / start_mem))\n",
        "    return df"
      ]
    },
    {
      "cell_type": "code",
      "execution_count": null,
      "metadata": {
        "id": "8XpIQ-VuA_e-"
      },
      "outputs": [],
      "source": [
        "seed_everything(seed=FEATURES.SEED)"
      ]
    },
    {
      "cell_type": "markdown",
      "metadata": {
        "id": "rD16djS19t7Z"
      },
      "source": [
        "# **Dataset**"
      ]
    },
    {
      "cell_type": "code",
      "execution_count": null,
      "metadata": {
        "id": "_gV51qCn9s7v"
      },
      "outputs": [],
      "source": [
        "data_path = '/content/drive/MyDrive/EcommerceFraudDetection/'\n",
        "train = pd.read_csv(f\"{data_path}FinalTrain.csv\")\n",
        "validation = pd.read_csv(f\"{data_path}FinalValidation.csv\")"
      ]
    },
    {
      "cell_type": "code",
      "execution_count": null,
      "metadata": {
        "id": "g8iy3uMQmgJF"
      },
      "outputs": [],
      "source": [
        "validation = validation.fillna(0) "
      ]
    },
    {
      "cell_type": "code",
      "execution_count": null,
      "metadata": {
        "colab": {
          "base_uri": "https://localhost:8080/"
        },
        "id": "aSGoJSknUcIW",
        "outputId": "6dcc1ec3-190e-49c6-ce65-aee9945150c0"
      },
      "outputs": [
        {
          "output_type": "execute_result",
          "data": {
            "text/plain": [
              "0.0    151966\n",
              "1.0     45590\n",
              "Name: isFraud, dtype: int64"
            ]
          },
          "metadata": {},
          "execution_count": 8
        }
      ],
      "source": [
        "# ------------------------------------------------------------------------\n",
        "# DISTRIBUTION OF THE ACTUAL DATASET\n",
        "# ------------------------------------------------------------------------\n",
        "\n",
        "train[\"isFraud\"].value_counts()"
      ]
    },
    {
      "cell_type": "code",
      "execution_count": null,
      "metadata": {
        "id": "G6fiOuFFAW8K"
      },
      "outputs": [],
      "source": [
        "# ------------------------------------------------------------------------\n",
        "# ADDING 1% NOISE RATE (1976 Transactions)\n",
        "# ------------------------------------------------------------------------\n",
        "# ------------------------------------------------------------------------\n",
        "\n",
        "\n",
        "# ------------------------------------------------------------------------\n",
        "# LABEL SWAPPING FUNCTION\n",
        "# ------------------------------------------------------------------------\n",
        "\n",
        "def interchangeLabel(x):\n",
        "  if x == 0:\n",
        "    return 1\n",
        "  else:\n",
        "    return 0\n",
        "\n",
        "# ------------------------------------------------------------------------\n",
        "# SHUFFLING DATASET\n",
        "# ------------------------------------------------------------------------\n",
        "\n",
        "train = train.sample(frac=1).reset_index(drop=True)\n",
        "\n",
        "\n",
        "train.isFraud[:1976] = train.isFraud[:1976].map(interchangeLabel)"
      ]
    },
    {
      "cell_type": "code",
      "execution_count": null,
      "metadata": {
        "colab": {
          "base_uri": "https://localhost:8080/"
        },
        "id": "ytOge2kpC43B",
        "outputId": "6d19d57b-d496-4168-8ff1-69f2b514cd18"
      },
      "outputs": [
        {
          "output_type": "execute_result",
          "data": {
            "text/plain": [
              "0.0    150878\n",
              "1.0     46678\n",
              "Name: isFraud, dtype: int64"
            ]
          },
          "metadata": {},
          "execution_count": 10
        }
      ],
      "source": [
        "# ------------------------------------------------------------------------\n",
        "# DISTRIBUTION AFTER INTRODUCING NOISE\n",
        "# ------------------------------------------------------------------------\n",
        "\n",
        "train[\"isFraud\"].value_counts()"
      ]
    },
    {
      "cell_type": "markdown",
      "metadata": {
        "id": "EiD0Nb0eG1ZL"
      },
      "source": [
        "# **Splitting Train data**"
      ]
    },
    {
      "cell_type": "code",
      "execution_count": null,
      "metadata": {
        "id": "X5QQSD-4G5cp"
      },
      "outputs": [],
      "source": [
        "train_idx, test_idx = train_test_split(range(len(train)), test_size=0.2, random_state=FEATURES.SEED, stratify=train.isFraud)\n",
        "\n",
        "train_df = train.iloc[train_idx, :]\n",
        "test_df = train.iloc[test_idx, :]\n",
        "\n",
        "X_train, y_train = train_df.drop([\"isFraud\"], axis = 1), train_df[\"isFraud\"]\n",
        "X_test, y_test = test_df.drop([\"isFraud\"], axis = 1), test_df[\"isFraud\"]"
      ]
    },
    {
      "cell_type": "markdown",
      "metadata": {
        "id": "wUkl_vxMJ5In"
      },
      "source": [
        "# **SUPPORT VECTOR MACHINE (BASELINE MODEL)**"
      ]
    },
    {
      "cell_type": "code",
      "execution_count": null,
      "metadata": {
        "id": "fEhaUibmLcDJ"
      },
      "outputs": [],
      "source": [
        "from sklearn.preprocessing import StandardScaler    \n",
        "scaler = StandardScaler()    \n",
        "train_svm = scaler.fit_transform(train.drop([\"isFraud\"], axis = 1))    \n",
        "val_svm = scaler.transform(validation.drop([\"isFraud\"], axis = 1))  "
      ]
    },
    {
      "cell_type": "code",
      "execution_count": null,
      "metadata": {
        "id": "ucvPf5hCKPg2"
      },
      "outputs": [],
      "source": [
        "# \"Support vector classifier\"  \n",
        "SVMMODEL = SVC(kernel='rbf', random_state=FEATURES.SEED)  \n",
        "SVMMODEL.fit(train_svm, train[\"isFraud\"])  "
      ]
    },
    {
      "cell_type": "code",
      "execution_count": null,
      "metadata": {
        "colab": {
          "background_save": true
        },
        "id": "0Ar2wczP065I"
      },
      "outputs": [],
      "source": [
        "valPredSVM = SVMMODEL.predict(val_svm)\n",
        "pd.Series(valPredSVM).to_csv(f\"{data_path}valPredSVM_(1% Noise Rate).csv\", index = False)"
      ]
    },
    {
      "cell_type": "markdown",
      "metadata": {
        "id": "weSltQH4BTHQ"
      },
      "source": [
        "# **LGBM**"
      ]
    },
    {
      "cell_type": "code",
      "execution_count": null,
      "metadata": {
        "id": "hpB-cOre9s-i"
      },
      "outputs": [],
      "source": [
        "train_data = lgb.Dataset(X_train, label=y_train)\n",
        "test_data = lgb.Dataset(X_test, label= y_test)  \n",
        "\n",
        "LGBMModel = lgb.train(\n",
        "            FEATURES.LGBMModelParameter,\n",
        "            train_data,\n",
        "            valid_sets = [train_data,test_data],\n",
        "            verbose_eval = 200,)\n",
        "\n",
        "valPredLGB = LGBMModel.predict(validation.drop([\"isFraud\"], axis = 1))\n",
        "pd.Series(valPredLGB).to_csv(f\"{data_path}valPredLGB_(1% Noise Rate).csv\", index = False)"
      ]
    },
    {
      "cell_type": "markdown",
      "metadata": {
        "id": "Vu9FYeTeE_UX"
      },
      "source": [
        "# **RANDOM FOREST**"
      ]
    },
    {
      "cell_type": "code",
      "execution_count": null,
      "metadata": {
        "id": "UNw98OwZ9tEa"
      },
      "outputs": [],
      "source": [
        "RandomForestModel = RandomForestClassifier(criterion='entropy', max_features='sqrt',\n",
        "                                             max_samples=0.5, min_samples_split=80)\n",
        "\n",
        "RandomForestModel.fit(train.drop([\"isFraud\"], axis = 1), train[\"isFraud\"])\n",
        "\n",
        "valPredRF = RandomForestModel.predict_proba(validation.drop([\"isFraud\"], axis = 1))[:,1]\n",
        "pd.Series(valPredRF).to_csv(f\"{data_path}valPredRF_(1% Noise Rate).csv\", index = False)"
      ]
    },
    {
      "cell_type": "markdown",
      "metadata": {
        "id": "YvM7mC5wGiQD"
      },
      "source": [
        "# **XGBOOST**"
      ]
    },
    {
      "cell_type": "code",
      "execution_count": null,
      "metadata": {
        "id": "cZPABBHpituS"
      },
      "outputs": [],
      "source": [
        "XGBoostModel = xgb.XGBClassifier( \n",
        "        objective='binary:logistic',\n",
        "        n_estimators=2000,\n",
        "        max_depth=12, \n",
        "        learning_rate=0.02, \n",
        "        subsample=0.8,\n",
        "        colsample_bytree=0.4, \n",
        "        missing=-1, \n",
        "        eval_metric=['auc','logloss'],\n",
        "        nthread=4,\n",
        "        scale_pos_weight = 5,\n",
        "        tree_method='hist')\n",
        "\n",
        "XGBoostModel.fit(train.drop([\"isFraud\"], axis = 1), train[\"isFraud\"])\n",
        "\n",
        "valPredXGB = XGBoostModel.predict_proba(validation.drop([\"isFraud\"], axis = 1))[:, 1]\n",
        "pd.Series(valPredXGB).to_csv(f\"{data_path}valPredXGB_(1% Noise Rate).csv\", index = False)"
      ]
    },
    {
      "cell_type": "code",
      "execution_count": null,
      "metadata": {
        "colab": {
          "base_uri": "https://localhost:8080/"
        },
        "id": "R9aakhy7ErFJ",
        "outputId": "46f2dc2e-7a3e-42d2-fae4-f5477cef8cc5"
      },
      "outputs": [
        {
          "data": {
            "text/plain": [
              "0.9659635426520911"
            ]
          },
          "execution_count": 16,
          "metadata": {},
          "output_type": "execute_result"
        }
      ],
      "source": [
        "roc_auc_score(validation[\"isFraud\"],valPredXGB)"
      ]
    }
  ],
  "metadata": {
    "colab": {
      "collapsed_sections": [
        "RZARCPRd9pH6",
        "ZhXUVQftwaHj",
        "3NwrxDYq-wdr",
        "rD16djS19t7Z",
        "EiD0Nb0eG1ZL",
        "weSltQH4BTHQ",
        "Vu9FYeTeE_UX",
        "YvM7mC5wGiQD"
      ],
      "provenance": [],
      "include_colab_link": true
    },
    "gpuClass": "standard",
    "kernelspec": {
      "display_name": "Python 3",
      "name": "python3"
    },
    "language_info": {
      "name": "python"
    }
  },
  "nbformat": 4,
  "nbformat_minor": 0
}