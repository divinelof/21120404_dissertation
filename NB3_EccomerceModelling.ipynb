{
  "nbformat": 4,
  "nbformat_minor": 0,
  "metadata": {
    "colab": {
      "provenance": [],
      "collapsed_sections": [
        "RZARCPRd9pH6",
        "ZhXUVQftwaHj",
        "3NwrxDYq-wdr",
        "rD16djS19t7Z",
        "EiD0Nb0eG1ZL",
        "wUkl_vxMJ5In",
        "weSltQH4BTHQ",
        "Vu9FYeTeE_UX",
        "YvM7mC5wGiQD"
      ],
      "include_colab_link": true
    },
    "kernelspec": {
      "name": "python3",
      "display_name": "Python 3"
    },
    "language_info": {
      "name": "python"
    },
    "gpuClass": "standard"
  },
  "cells": [
    {
      "cell_type": "markdown",
      "metadata": {
        "id": "view-in-github",
        "colab_type": "text"
      },
      "source": [
        "<a href=\"https://colab.research.google.com/github/divinelof/21120404_dissertation/blob/main/NB3_EccomerceModelling.ipynb\" target=\"_parent\"><img src=\"https://colab.research.google.com/assets/colab-badge.svg\" alt=\"Open In Colab\"/></a>"
      ]
    },
    {
      "cell_type": "markdown",
      "source": [
        "# **SETUP**"
      ],
      "metadata": {
        "id": "RZARCPRd9pH6"
      }
    },
    {
      "cell_type": "code",
      "source": [
        "from google.colab import drive\n",
        "drive.mount('/content/drive')"
      ],
      "metadata": {
        "id": "pcxBo4Y6iqsF",
        "colab": {
          "base_uri": "https://localhost:8080/"
        },
        "outputId": "798a0fc6-4fdd-4a31-b420-e0f1eec6df3c"
      },
      "execution_count": null,
      "outputs": [
        {
          "output_type": "stream",
          "name": "stdout",
          "text": [
            "Mounted at /content/drive\n"
          ]
        }
      ]
    },
    {
      "cell_type": "markdown",
      "source": [
        "# **Libraries**"
      ],
      "metadata": {
        "id": "ZhXUVQftwaHj"
      }
    },
    {
      "cell_type": "code",
      "source": [
        "# General imports\n",
        "import numpy as np\n",
        "import pandas as pd\n",
        "import os, sys, gc, warnings, random, datetime\n",
        "\n",
        "from sklearn import metrics\n",
        "from sklearn.model_selection import train_test_split\n",
        "from sklearn.preprocessing import LabelEncoder\n",
        "\n",
        "from tqdm import tqdm\n",
        "\n",
        "import math\n",
        "import lightgbm as lgb\n",
        "import xgboost as xgb\n",
        "from sklearn.svm import SVC\n",
        "from sklearn.ensemble import RandomForestClassifier\n",
        "\n",
        "from sklearn.metrics import classification_report, confusion_matrix, f1_score, roc_auc_score\n",
        "\n",
        "warnings.filterwarnings('ignore')"
      ],
      "metadata": {
        "id": "TM8s5hSl9s4o"
      },
      "execution_count": null,
      "outputs": []
    },
    {
      "cell_type": "markdown",
      "source": [
        "# **UTILS**"
      ],
      "metadata": {
        "id": "3NwrxDYq-wdr"
      }
    },
    {
      "cell_type": "code",
      "source": [
        "import numpy as np\n",
        "\n",
        "\n",
        "def plot_confusion_matrix(cm,\n",
        "                          target_names,\n",
        "                          title='Confusion matrix',\n",
        "                          cmap=None,\n",
        "                          normalize=True):\n",
        "    \"\"\"\n",
        "    given a sklearn confusion matrix (cm), make a nice plot\n",
        "\n",
        "    Arguments\n",
        "    ---------\n",
        "    cm:           confusion matrix from sklearn.metrics.confusion_matrix\n",
        "\n",
        "    target_names: given classification classes such as [0, 1, 2]\n",
        "                  the class names, for example: ['high', 'medium', 'low']\n",
        "\n",
        "    title:        the text to display at the top of the matrix\n",
        "\n",
        "    cmap:         the gradient of the values displayed from matplotlib.pyplot.cm\n",
        "                  see http://matplotlib.org/examples/color/colormaps_reference.html\n",
        "                  plt.get_cmap('jet') or plt.cm.Blues\n",
        "\n",
        "    normalize:    If False, plot the raw numbers\n",
        "                  If True, plot the proportions\n",
        "\n",
        "    Usage\n",
        "    -----\n",
        "    plot_confusion_matrix(cm           = cm,                  # confusion matrix created by\n",
        "                                                              # sklearn.metrics.confusion_matrix\n",
        "                          normalize    = True,                # show proportions\n",
        "                          target_names = y_labels_vals,       # list of names of the classes\n",
        "                          title        = best_estimator_name) # title of graph\n",
        "\n",
        "    Citiation\n",
        "    ---------\n",
        "    http://scikit-learn.org/stable/auto_examples/model_selection/plot_confusion_matrix.html\n",
        "\n",
        "    \"\"\"\n",
        "    import matplotlib.pyplot as plt\n",
        "    import numpy as np\n",
        "    import itertools\n",
        "\n",
        "    accuracy = np.trace(cm) / float(np.sum(cm))\n",
        "    misclass = 1 - accuracy\n",
        "\n",
        "    if cmap is None:\n",
        "        cmap = plt.get_cmap('Blues')\n",
        "\n",
        "    plt.figure(figsize=(8, 6))\n",
        "    plt.imshow(cm, interpolation='nearest', cmap=cmap)\n",
        "    plt.title(title)\n",
        "    plt.colorbar()\n",
        "\n",
        "    if target_names is not None:\n",
        "        tick_marks = np.arange(len(target_names))\n",
        "        plt.xticks(tick_marks, target_names, rotation=45)\n",
        "        plt.yticks(tick_marks, target_names)\n",
        "\n",
        "    if normalize:\n",
        "        cm = cm.astype('float') / cm.sum(axis=1)[:, np.newaxis]\n",
        "\n",
        "\n",
        "    thresh = cm.max() / 1.5 if normalize else cm.max() / 2\n",
        "    for i, j in itertools.product(range(cm.shape[0]), range(cm.shape[1])):\n",
        "        if normalize:\n",
        "            plt.text(j, i, \"{:0.4f}\".format(cm[i, j]),\n",
        "                     horizontalalignment=\"center\",\n",
        "                     color=\"white\" if cm[i, j] > thresh else \"black\")\n",
        "        else:\n",
        "            plt.text(j, i, \"{:,}\".format(cm[i, j]),\n",
        "                     horizontalalignment=\"center\",\n",
        "                     color=\"white\" if cm[i, j] > thresh else \"black\")\n",
        "\n",
        "\n",
        "    plt.tight_layout()\n",
        "    plt.ylabel('True label')\n",
        "    plt.xlabel('Predicted label\\naccuracy={:0.4f}; misclass={:0.4f}'.format(accuracy, misclass))\n",
        "    plt.show()"
      ],
      "metadata": {
        "id": "kmn9BZlVVTis"
      },
      "execution_count": null,
      "outputs": []
    },
    {
      "cell_type": "code",
      "source": [
        "class FEATURES:\n",
        "\n",
        "  SEED = 2022\n",
        "  \n",
        "  LGBMModelParameter = {\n",
        "                    'objective':'binary',\n",
        "                    'boosting_type':'gbdt',\n",
        "                    'metric':'auc',\n",
        "                    'n_jobs':-1,\n",
        "                    'learning_rate':0.01,\n",
        "                    'num_leaves': 2**8,\n",
        "                    'max_depth':-1,\n",
        "                    'tree_learner':'serial',\n",
        "                    'colsample_bytree': 0.5,\n",
        "                    'subsample_freq':1,\n",
        "                    \"scale_pos_weight\":5,\n",
        "                    'subsample':0.7,\n",
        "                    'n_estimators':800,\n",
        "                    'max_bin':255,\n",
        "                    'verbose':-1,\n",
        "                    'seed': SEED,\n",
        "                    'early_stopping_rounds':100} "
      ],
      "metadata": {
        "id": "nOYKKuSR-yK6"
      },
      "execution_count": null,
      "outputs": []
    },
    {
      "cell_type": "code",
      "source": [
        "########################### Helpers\n",
        "#################################################################################\n",
        "## Seeder\n",
        "# :seed to make all processes deterministic     # type: int\n",
        "def seed_everything(seed=0):\n",
        "    random.seed(seed)\n",
        "    os.environ['PYTHONHASHSEED'] = str(seed)\n",
        "    np.random.seed(seed)\n",
        "    \n",
        "## Memory Reducer\n",
        "# :df pandas dataframe to reduce size             # type: pd.DataFrame()\n",
        "# :verbose                                        # type: bool\n",
        "def reduce_mem_usage(df, verbose=True):\n",
        "    numerics = ['int16', 'int32', 'int64', 'float16', 'float32', 'float64']\n",
        "    start_mem = df.memory_usage().sum() / 1024**2    \n",
        "    for col in df.columns:\n",
        "        col_type = df[col].dtypes\n",
        "        if col_type in numerics:\n",
        "            c_min = df[col].min()\n",
        "            c_max = df[col].max()\n",
        "            if str(col_type)[:3] == 'int':\n",
        "                if c_min > np.iinfo(np.int8).min and c_max < np.iinfo(np.int8).max:\n",
        "                    df[col] = df[col].astype(np.int8)\n",
        "                elif c_min > np.iinfo(np.int16).min and c_max < np.iinfo(np.int16).max:\n",
        "                    df[col] = df[col].astype(np.int16)\n",
        "                elif c_min > np.iinfo(np.int32).min and c_max < np.iinfo(np.int32).max:\n",
        "                    df[col] = df[col].astype(np.int32)\n",
        "                elif c_min > np.iinfo(np.int64).min and c_max < np.iinfo(np.int64).max:\n",
        "                    df[col] = df[col].astype(np.int64)  \n",
        "            else:\n",
        "                if c_min > np.finfo(np.float16).min and c_max < np.finfo(np.float16).max:\n",
        "                    df[col] = df[col].astype(np.float16)\n",
        "                elif c_min > np.finfo(np.float32).min and c_max < np.finfo(np.float32).max:\n",
        "                    df[col] = df[col].astype(np.float32)\n",
        "                else:\n",
        "                    df[col] = df[col].astype(np.float64)    \n",
        "    end_mem = df.memory_usage().sum() / 1024**2\n",
        "    if verbose: print('Mem. usage decreased to {:5.2f} Mb ({:.1f}% reduction)'.format(end_mem, 100 * (start_mem - end_mem) / start_mem))\n",
        "    return df"
      ],
      "metadata": {
        "id": "PrkDMM47A7pW"
      },
      "execution_count": null,
      "outputs": []
    },
    {
      "cell_type": "code",
      "source": [
        "seed_everything(seed=FEATURES.SEED)"
      ],
      "metadata": {
        "id": "8XpIQ-VuA_e-"
      },
      "execution_count": null,
      "outputs": []
    },
    {
      "cell_type": "markdown",
      "source": [
        "# **Dataset**"
      ],
      "metadata": {
        "id": "rD16djS19t7Z"
      }
    },
    {
      "cell_type": "code",
      "source": [
        "data_path = '/content/drive/MyDrive/EcommerceFraudDetection/'\n",
        "train = pd.read_csv(f\"{data_path}FinalTrain.csv\")\n",
        "validation = pd.read_csv(f\"{data_path}FinalValidation.csv\")"
      ],
      "metadata": {
        "id": "_gV51qCn9s7v"
      },
      "execution_count": null,
      "outputs": []
    },
    {
      "cell_type": "code",
      "source": [
        "validation = validation.fillna(0) "
      ],
      "metadata": {
        "id": "g8iy3uMQmgJF"
      },
      "execution_count": null,
      "outputs": []
    },
    {
      "cell_type": "code",
      "source": [
        "train[\"isFraud\"].value_counts()"
      ],
      "metadata": {
        "colab": {
          "base_uri": "https://localhost:8080/"
        },
        "id": "aSGoJSknUcIW",
        "outputId": "ef28bc95-4967-4f04-f0fc-1d2f6c1dd032"
      },
      "execution_count": null,
      "outputs": [
        {
          "output_type": "execute_result",
          "data": {
            "text/plain": [
              "0.0    151966\n",
              "1.0     45590\n",
              "Name: isFraud, dtype: int64"
            ]
          },
          "metadata": {},
          "execution_count": 9
        }
      ]
    },
    {
      "cell_type": "code",
      "source": [
        "imbRatio = 151966/ 45590"
      ],
      "metadata": {
        "id": "_lRLzwkvXU1H"
      },
      "execution_count": null,
      "outputs": []
    },
    {
      "cell_type": "markdown",
      "source": [
        "# **Splitting Train data**"
      ],
      "metadata": {
        "id": "EiD0Nb0eG1ZL"
      }
    },
    {
      "cell_type": "code",
      "source": [
        "train_idx, test_idx = train_test_split(range(len(train)), test_size=0.2, random_state=FEATURES.SEED, stratify=train.isFraud)\n",
        "\n",
        "train_df = train.iloc[train_idx, :]\n",
        "test_df = train.iloc[test_idx, :]\n",
        "\n",
        "X_train, y_train = train_df.drop([\"isFraud\"], axis = 1), train_df[\"isFraud\"]\n",
        "X_test, y_test = test_df.drop([\"isFraud\"], axis = 1), test_df[\"isFraud\"]"
      ],
      "metadata": {
        "id": "X5QQSD-4G5cp"
      },
      "execution_count": null,
      "outputs": []
    },
    {
      "cell_type": "markdown",
      "source": [
        "# **SUPPORT VECTOR MACHINE (BASELINE MODEL)**"
      ],
      "metadata": {
        "id": "wUkl_vxMJ5In"
      }
    },
    {
      "cell_type": "code",
      "source": [
        "from sklearn.preprocessing import StandardScaler    \n",
        "scaler = StandardScaler()    \n",
        "train_svm = scaler.fit_transform(train.drop([\"isFraud\"], axis = 1))    \n",
        "val_svm = scaler.transform(validation.drop([\"isFraud\"], axis = 1))  "
      ],
      "metadata": {
        "id": "fEhaUibmLcDJ"
      },
      "execution_count": null,
      "outputs": []
    },
    {
      "cell_type": "code",
      "source": [
        "# \"Support vector classifier\"  \n",
        "SVMMODEL = SVC(kernel='rbf', random_state=FEATURES.SEED)  \n",
        "SVMMODEL.fit(train_svm, train[\"isFraud\"])  \n",
        "\n",
        "valPredSVM = SVMMODEL.predict(val_svm)\n",
        "pd.Series(valPredSVM).to_csv(f\"{data_path}valPredSVM.csv\", index = False)"
      ],
      "metadata": {
        "id": "ucvPf5hCKPg2"
      },
      "execution_count": null,
      "outputs": []
    },
    {
      "cell_type": "markdown",
      "source": [
        "# **LGBM**"
      ],
      "metadata": {
        "id": "weSltQH4BTHQ"
      }
    },
    {
      "cell_type": "code",
      "source": [
        "train_data = lgb.Dataset(X_train, label=y_train)\n",
        "test_data = lgb.Dataset(X_test, label= y_test)  \n",
        "\n",
        "LGBMModel = lgb.train(\n",
        "            FEATURES.LGBMModelParameter,\n",
        "            train_data,\n",
        "            valid_sets = [train_data,test_data],\n",
        "            verbose_eval = 200,)\n",
        "\n",
        "valPredLGB = LGBMModel.predict(validation.drop([\"isFraud\"], axis = 1))\n",
        "pd.Series(valPredLGB).to_csv(f\"{data_path}valPredLGB.csv\", index = False)"
      ],
      "metadata": {
        "id": "hpB-cOre9s-i",
        "colab": {
          "base_uri": "https://localhost:8080/"
        },
        "outputId": "51faa4dc-c185-4931-fb38-5dbf2ad2f418"
      },
      "execution_count": null,
      "outputs": [
        {
          "output_type": "stream",
          "name": "stdout",
          "text": [
            "Training until validation scores don't improve for 100 rounds.\n",
            "[200]\ttraining's auc: 0.980189\tvalid_1's auc: 0.96884\n",
            "[400]\ttraining's auc: 0.989424\tvalid_1's auc: 0.975711\n",
            "[600]\ttraining's auc: 0.994527\tvalid_1's auc: 0.980142\n",
            "[800]\ttraining's auc: 0.997151\tvalid_1's auc: 0.982533\n",
            "Did not meet early stopping. Best iteration is:\n",
            "[800]\ttraining's auc: 0.997151\tvalid_1's auc: 0.982533\n"
          ]
        }
      ]
    },
    {
      "cell_type": "markdown",
      "source": [
        "# **RANDOM FOREST**"
      ],
      "metadata": {
        "id": "Vu9FYeTeE_UX"
      }
    },
    {
      "cell_type": "code",
      "source": [
        "RandomForestModel = RandomForestClassifier(criterion='entropy', max_features='sqrt',\n",
        "                                             max_samples=0.5, min_samples_split=80)\n",
        "\n",
        "RandomForestModel.fit(train.drop([\"isFraud\"], axis = 1), train[\"isFraud\"])\n",
        "\n",
        "valPredRF = RandomForestModel.predict_proba(validation.drop([\"isFraud\"], axis = 1))[:,1]\n",
        "pd.Series(valPredRF).to_csv(f\"{data_path}valPredRF.csv\", index = False)"
      ],
      "metadata": {
        "id": "UNw98OwZ9tEa",
        "colab": {
          "base_uri": "https://localhost:8080/"
        },
        "outputId": "47ba4ffd-7352-42e6-d045-867d17e431ee"
      },
      "execution_count": null,
      "outputs": [
        {
          "output_type": "execute_result",
          "data": {
            "text/plain": [
              "RandomForestClassifier(criterion='entropy', max_features='sqrt',\n",
              "                       max_samples=0.5, min_samples_split=80)"
            ]
          },
          "metadata": {},
          "execution_count": 90
        }
      ]
    },
    {
      "cell_type": "markdown",
      "source": [
        "# **XGBOOST**"
      ],
      "metadata": {
        "id": "YvM7mC5wGiQD"
      }
    },
    {
      "cell_type": "code",
      "source": [
        "XGBoostModel = xgb.XGBClassifier( \n",
        "        objective='binary:logistic',\n",
        "        n_estimators=2000,\n",
        "        max_depth=12, \n",
        "        learning_rate=0.02, \n",
        "        subsample=0.8,\n",
        "        colsample_bytree=0.4, \n",
        "        missing=-1, \n",
        "        eval_metric=['auc','logloss'],\n",
        "        nthread=4,\n",
        "        scale_pos_weight = 5,\n",
        "        tree_method='hist')\n",
        "\n",
        "XGBoostModel.fit(train.drop([\"isFraud\"], axis = 1), train[\"isFraud\"])\n",
        "\n",
        "valPredXGB = XGBoostModel.predict_proba(validation.drop([\"isFraud\"], axis = 1))[:, 1]\n",
        "pd.Series(valPredXGB).to_csv(f\"{data_path}valPredXGB.csv\", index = False)"
      ],
      "metadata": {
        "id": "cZPABBHpituS",
        "colab": {
          "base_uri": "https://localhost:8080/"
        },
        "outputId": "c78ec14a-5a96-4eea-c56c-81e942fb01bc"
      },
      "execution_count": null,
      "outputs": [
        {
          "output_type": "execute_result",
          "data": {
            "text/plain": [
              "XGBClassifier(colsample_bytree=0.4, eval_metric=['auc', 'logloss'],\n",
              "              learning_rate=0.02, max_depth=12, missing=-1, n_estimators=2000,\n",
              "              nthread=4, scale_pos_weight=5, subsample=0.8, tree_method='hist')"
            ]
          },
          "metadata": {},
          "execution_count": 99
        }
      ]
    }
  ]
}